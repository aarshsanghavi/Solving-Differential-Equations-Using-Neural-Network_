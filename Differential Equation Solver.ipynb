{
 "cells": [
  {
   "cell_type": "code",
   "execution_count": 1,
   "id": "52dbf77c-4379-49c2-8515-4bf813b1ee19",
   "metadata": {},
   "outputs": [
    {
     "name": "stdout",
     "output_type": "stream",
     "text": [
      "* Running on local URL:  http://127.0.0.1:7860\n",
      "* To create a public link, set `share=True` in `launch()`.\n"
     ]
    },
    {
     "data": {
      "text/html": [
       "<div><iframe src=\"http://127.0.0.1:7860/\" width=\"100%\" height=\"500\" allow=\"autoplay; camera; microphone; clipboard-read; clipboard-write;\" frameborder=\"0\" allowfullscreen></iframe></div>"
      ],
      "text/plain": [
       "<IPython.core.display.HTML object>"
      ]
     },
     "metadata": {},
     "output_type": "display_data"
    },
    {
     "data": {
      "text/plain": []
     },
     "execution_count": 1,
     "metadata": {},
     "output_type": "execute_result"
    }
   ],
   "source": [
    "import gradio as gr\n",
    "import torch\n",
    "import torch.nn as nn\n",
    "import numpy as np\n",
    "import matplotlib.pyplot as plt\n",
    "\n",
    "def make_rhs_func(expr_str):\n",
    "    allowed_names = {\n",
    "        'torch': torch,\n",
    "        'sin': torch.sin, 'cos': torch.cos, 'exp': torch.exp, 'log': torch.log,\n",
    "        'tan': torch.tan, 'abs': torch.abs, 'sqrt': torch.sqrt,\n",
    "        'pi': torch.pi, 'e': np.e\n",
    "    }\n",
    "    code = compile(expr_str, \"<string>\", \"eval\")\n",
    "    def rhs_func(x, y):\n",
    "        env = dict(allowed_names)\n",
    "        env.update({'x': x, 'y': y})\n",
    "        return eval(code, {\"__builtins__\": None}, env)\n",
    "    return rhs_func\n",
    "\n",
    "class NeuralNet(nn.Module):\n",
    "    def __init__(self):\n",
    "        super().__init__()\n",
    "        self.net = nn.Sequential(\n",
    "            nn.Linear(1, 50),\n",
    "            nn.Tanh(),\n",
    "            nn.Linear(50, 50),\n",
    "            nn.Tanh(),\n",
    "            nn.Linear(50, 1)\n",
    "        )\n",
    "    def forward(self, x):\n",
    "        return self.net(x)\n",
    "\n",
    "def solve_ode(rhs_expr, x0_val, y0_val, epochs, x_min, x_max):\n",
    "    device = torch.device(\"cpu\")\n",
    "    torch.manual_seed(42)\n",
    "    # Handle bad domain (swap if min > max)\n",
    "    if x_min > x_max:\n",
    "        x_min, x_max = x_max, x_min\n",
    "    x = torch.arange(x_min, x_max, 0.05, requires_grad=True, device=device).unsqueeze(1)\n",
    "    x0 = torch.tensor([[x0_val]], dtype=torch.float32, device=device, requires_grad=True)\n",
    "    y0 = torch.tensor([[y0_val]], dtype=torch.float32, device=device, requires_grad=True)\n",
    "    rhs_func = make_rhs_func(rhs_expr)\n",
    "    model = NeuralNet().to(device)\n",
    "    optimizer = torch.optim.Adam(model.parameters(), lr=1e-3)\n",
    "    loss_fn = nn.MSELoss()\n",
    "    for epoch in range(epochs):\n",
    "        optimizer.zero_grad()\n",
    "        y_pred = model(x)\n",
    "        D = torch.autograd.grad(y_pred, x, grad_outputs=torch.ones_like(y_pred), create_graph=True)[0]\n",
    "        lhs = D\n",
    "        rhs = rhs_func(x, y_pred)\n",
    "        loss_eq = loss_fn(lhs, rhs)\n",
    "        y0_pred = model(x0)\n",
    "        loss_ic = loss_fn(y0_pred, y0)\n",
    "        loss = loss_eq + loss_ic\n",
    "        loss.backward()\n",
    "        optimizer.step()\n",
    "    with torch.no_grad():\n",
    "        y_sol = model(x).cpu().numpy().flatten()\n",
    "        x_plot = x.cpu().numpy().flatten()\n",
    "        y_true = x_plot**5 / 5\n",
    "    fig, ax = plt.subplots(figsize=(8,4))\n",
    "    ax.plot(x_plot, y_sol, label=\"NN Solution\")\n",
    "    if rhs_expr.strip().replace(' ', '') == \"x**4\" and x0_val == 0 and y0_val == 0:\n",
    "        ax.plot(x_plot, y_true, '--', label=\"Analytical: $x^5/5$\")\n",
    "    ax.set_xlabel('x')\n",
    "    ax.set_ylabel('y(x)')\n",
    "    ax.set_title(f\"Solution domain: [{x_min}, {x_max}]\")\n",
    "    ax.legend()\n",
    "    ax.grid(True)\n",
    "    return fig\n",
    "\n",
    "iface = gr.Interface(\n",
    "    fn=solve_ode,\n",
    "    inputs=[\n",
    "        gr.Textbox(label=\"dy/dx =\", value=\"x**4\"),\n",
    "        gr.Number(label=\"x0\", value=0.0),\n",
    "        gr.Number(label=\"y0\", value=0.0),\n",
    "        gr.Slider(100, 10000, value=1000, step=100, label=\"Epochs\"),\n",
    "        gr.Number(label=\"x_min\", value=-2.0),\n",
    "        gr.Number(label=\"x_max\", value=2.0),\n",
    "    ],\n",
    "    outputs=gr.Plot(label=\"Solution Plot\"),\n",
    "    title=\"Neural ODE Solver (PINN) with Custom Domain\"\n",
    ")\n",
    "\n",
    "iface.launch()\n"
   ]
  },
  {
   "cell_type": "code",
   "execution_count": null,
   "id": "1ae41898-2a30-4a0e-962e-0f9faaf1ec70",
   "metadata": {},
   "outputs": [],
   "source": []
  }
 ],
 "metadata": {
  "kernelspec": {
   "display_name": "Python 3 (ipykernel)",
   "language": "python",
   "name": "python3"
  },
  "language_info": {
   "codemirror_mode": {
    "name": "ipython",
    "version": 3
   },
   "file_extension": ".py",
   "mimetype": "text/x-python",
   "name": "python",
   "nbconvert_exporter": "python",
   "pygments_lexer": "ipython3",
   "version": "3.12.4"
  }
 },
 "nbformat": 4,
 "nbformat_minor": 5
}
